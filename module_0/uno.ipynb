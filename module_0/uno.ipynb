{
 "cells": [
  {
   "cell_type": "code",
   "execution_count": 19,
   "metadata": {},
   "outputs": [],
   "source": [
    "def game_core_v3(number):\n",
    "    \n",
    "    import numpy as np\n",
    "    count = 1\n",
    "    predict = np.random.randint(1,101)\n",
    "    print('Загаданное число:',predict)\n",
    "    while number != predict:\n",
    "        count+=1\n",
    "        \n",
    "        if predict > number: \n",
    "            if (predict - number)<10:\n",
    "                number += 1\n",
    "            else:\n",
    "                number += 10\n",
    "        elif predict < number:\n",
    "            if (number - predict)<10:\n",
    "                number -= 1\n",
    "            else:\n",
    "                number -= 10\n",
    "            \n",
    "    return(count) # выход из цикла, если угадали"
   ]
  },
  {
   "cell_type": "code",
   "execution_count": 25,
   "metadata": {},
   "outputs": [
    {
     "name": "stdout",
     "output_type": "stream",
     "text": [
      "Загаданное число: 15\n"
     ]
    },
    {
     "data": {
      "text/plain": [
       "9"
      ]
     },
     "execution_count": 25,
     "metadata": {},
     "output_type": "execute_result"
    }
   ],
   "source": [
    "game_core_v3(50)"
   ]
  },
  {
   "cell_type": "code",
   "execution_count": null,
   "metadata": {},
   "outputs": [],
   "source": []
  }
 ],
 "metadata": {
  "kernelspec": {
   "display_name": "Python 3",
   "language": "python",
   "name": "python3"
  },
  "language_info": {
   "codemirror_mode": {
    "name": "ipython",
    "version": 3
   },
   "file_extension": ".py",
   "mimetype": "text/x-python",
   "name": "python",
   "nbconvert_exporter": "python",
   "pygments_lexer": "ipython3",
   "version": "3.8.5"
  }
 },
 "nbformat": 4,
 "nbformat_minor": 4
}
